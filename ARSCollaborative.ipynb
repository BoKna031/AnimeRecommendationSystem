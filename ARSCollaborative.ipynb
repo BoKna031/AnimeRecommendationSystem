{
  "cells": [
    {
      "cell_type": "markdown",
      "metadata": {
        "id": "view-in-github",
        "colab_type": "text"
      },
      "source": [
        "<a href=\"https://colab.research.google.com/github/BoKna031/AnimeRecommendationSystem/blob/master/ARSCollaborative.ipynb\" target=\"_parent\"><img src=\"https://colab.research.google.com/assets/colab-badge.svg\" alt=\"Open In Colab\"/></a>"
      ]
    },
    {
      "cell_type": "code",
      "execution_count": null,
      "metadata": {
        "id": "cQz2tCCM8wRa"
      },
      "outputs": [],
      "source": [
        "import pandas as pd\n",
        "import os"
      ]
    },
    {
      "cell_type": "code",
      "execution_count": null,
      "metadata": {
        "colab": {
          "base_uri": "https://localhost:8080/",
          "height": 206
        },
        "id": "xIvLM0EWCfwE",
        "outputId": "1720f45b-a158-41d8-c167-1fe6d3038b62"
      },
      "outputs": [
        {
          "output_type": "execute_result",
          "data": {
            "text/plain": [
              "   user_id  anime_id  rating\n",
              "0        1        20      -1\n",
              "1        1        24      -1\n",
              "2        1        79      -1\n",
              "3        1       226      -1\n",
              "4        1       241      -1"
            ],
            "text/html": [
              "\n",
              "  <div id=\"df-7923e897-0e2c-4f4e-aaa3-9c81a4ec8f22\">\n",
              "    <div class=\"colab-df-container\">\n",
              "      <div>\n",
              "<style scoped>\n",
              "    .dataframe tbody tr th:only-of-type {\n",
              "        vertical-align: middle;\n",
              "    }\n",
              "\n",
              "    .dataframe tbody tr th {\n",
              "        vertical-align: top;\n",
              "    }\n",
              "\n",
              "    .dataframe thead th {\n",
              "        text-align: right;\n",
              "    }\n",
              "</style>\n",
              "<table border=\"1\" class=\"dataframe\">\n",
              "  <thead>\n",
              "    <tr style=\"text-align: right;\">\n",
              "      <th></th>\n",
              "      <th>user_id</th>\n",
              "      <th>anime_id</th>\n",
              "      <th>rating</th>\n",
              "    </tr>\n",
              "  </thead>\n",
              "  <tbody>\n",
              "    <tr>\n",
              "      <th>0</th>\n",
              "      <td>1</td>\n",
              "      <td>20</td>\n",
              "      <td>-1</td>\n",
              "    </tr>\n",
              "    <tr>\n",
              "      <th>1</th>\n",
              "      <td>1</td>\n",
              "      <td>24</td>\n",
              "      <td>-1</td>\n",
              "    </tr>\n",
              "    <tr>\n",
              "      <th>2</th>\n",
              "      <td>1</td>\n",
              "      <td>79</td>\n",
              "      <td>-1</td>\n",
              "    </tr>\n",
              "    <tr>\n",
              "      <th>3</th>\n",
              "      <td>1</td>\n",
              "      <td>226</td>\n",
              "      <td>-1</td>\n",
              "    </tr>\n",
              "    <tr>\n",
              "      <th>4</th>\n",
              "      <td>1</td>\n",
              "      <td>241</td>\n",
              "      <td>-1</td>\n",
              "    </tr>\n",
              "  </tbody>\n",
              "</table>\n",
              "</div>\n",
              "      <button class=\"colab-df-convert\" onclick=\"convertToInteractive('df-7923e897-0e2c-4f4e-aaa3-9c81a4ec8f22')\"\n",
              "              title=\"Convert this dataframe to an interactive table.\"\n",
              "              style=\"display:none;\">\n",
              "        \n",
              "  <svg xmlns=\"http://www.w3.org/2000/svg\" height=\"24px\"viewBox=\"0 0 24 24\"\n",
              "       width=\"24px\">\n",
              "    <path d=\"M0 0h24v24H0V0z\" fill=\"none\"/>\n",
              "    <path d=\"M18.56 5.44l.94 2.06.94-2.06 2.06-.94-2.06-.94-.94-2.06-.94 2.06-2.06.94zm-11 1L8.5 8.5l.94-2.06 2.06-.94-2.06-.94L8.5 2.5l-.94 2.06-2.06.94zm10 10l.94 2.06.94-2.06 2.06-.94-2.06-.94-.94-2.06-.94 2.06-2.06.94z\"/><path d=\"M17.41 7.96l-1.37-1.37c-.4-.4-.92-.59-1.43-.59-.52 0-1.04.2-1.43.59L10.3 9.45l-7.72 7.72c-.78.78-.78 2.05 0 2.83L4 21.41c.39.39.9.59 1.41.59.51 0 1.02-.2 1.41-.59l7.78-7.78 2.81-2.81c.8-.78.8-2.07 0-2.86zM5.41 20L4 18.59l7.72-7.72 1.47 1.35L5.41 20z\"/>\n",
              "  </svg>\n",
              "      </button>\n",
              "      \n",
              "  <style>\n",
              "    .colab-df-container {\n",
              "      display:flex;\n",
              "      flex-wrap:wrap;\n",
              "      gap: 12px;\n",
              "    }\n",
              "\n",
              "    .colab-df-convert {\n",
              "      background-color: #E8F0FE;\n",
              "      border: none;\n",
              "      border-radius: 50%;\n",
              "      cursor: pointer;\n",
              "      display: none;\n",
              "      fill: #1967D2;\n",
              "      height: 32px;\n",
              "      padding: 0 0 0 0;\n",
              "      width: 32px;\n",
              "    }\n",
              "\n",
              "    .colab-df-convert:hover {\n",
              "      background-color: #E2EBFA;\n",
              "      box-shadow: 0px 1px 2px rgba(60, 64, 67, 0.3), 0px 1px 3px 1px rgba(60, 64, 67, 0.15);\n",
              "      fill: #174EA6;\n",
              "    }\n",
              "\n",
              "    [theme=dark] .colab-df-convert {\n",
              "      background-color: #3B4455;\n",
              "      fill: #D2E3FC;\n",
              "    }\n",
              "\n",
              "    [theme=dark] .colab-df-convert:hover {\n",
              "      background-color: #434B5C;\n",
              "      box-shadow: 0px 1px 3px 1px rgba(0, 0, 0, 0.15);\n",
              "      filter: drop-shadow(0px 1px 2px rgba(0, 0, 0, 0.3));\n",
              "      fill: #FFFFFF;\n",
              "    }\n",
              "  </style>\n",
              "\n",
              "      <script>\n",
              "        const buttonEl =\n",
              "          document.querySelector('#df-7923e897-0e2c-4f4e-aaa3-9c81a4ec8f22 button.colab-df-convert');\n",
              "        buttonEl.style.display =\n",
              "          google.colab.kernel.accessAllowed ? 'block' : 'none';\n",
              "\n",
              "        async function convertToInteractive(key) {\n",
              "          const element = document.querySelector('#df-7923e897-0e2c-4f4e-aaa3-9c81a4ec8f22');\n",
              "          const dataTable =\n",
              "            await google.colab.kernel.invokeFunction('convertToInteractive',\n",
              "                                                     [key], {});\n",
              "          if (!dataTable) return;\n",
              "\n",
              "          const docLinkHtml = 'Like what you see? Visit the ' +\n",
              "            '<a target=\"_blank\" href=https://colab.research.google.com/notebooks/data_table.ipynb>data table notebook</a>'\n",
              "            + ' to learn more about interactive tables.';\n",
              "          element.innerHTML = '';\n",
              "          dataTable['output_type'] = 'display_data';\n",
              "          await google.colab.output.renderOutput(dataTable, element);\n",
              "          const docLink = document.createElement('div');\n",
              "          docLink.innerHTML = docLinkHtml;\n",
              "          element.appendChild(docLink);\n",
              "        }\n",
              "      </script>\n",
              "    </div>\n",
              "  </div>\n",
              "  "
            ]
          },
          "metadata": {},
          "execution_count": 2
        }
      ],
      "source": [
        "DATASET_FOLDER = os.sep + 'content'+ os.sep +'drive'+ os.sep +'MyDrive'+ os.sep +'Colab Notebooks'+ os.sep +'dataset'\n",
        "GENERATED_FOLDER = DATASET_FOLDER + os.sep + 'generated'\n",
        "\n",
        "RATING_CSV_PATH = GENERATED_FOLDER + os.sep + 'rating.csv'\n",
        "ANIME_CSV_PATH = GENERATED_FOLDER + os.sep + 'anime.csv'\n",
        "ANIME_SERIES_CSV_PATH = GENERATED_FOLDER + os.sep + 'anime_series.csv'\n",
        "rating_df = pd.read_csv(RATING_CSV_PATH)\n",
        "rating_df.head()"
      ]
    },
    {
      "cell_type": "code",
      "execution_count": null,
      "metadata": {
        "colab": {
          "base_uri": "https://localhost:8080/"
        },
        "id": "39w6_zoSuXjB",
        "outputId": "cc0d2640-110b-4962-997c-7a1d7ecdffd3"
      },
      "outputs": [
        {
          "output_type": "execute_result",
          "data": {
            "text/plain": [
              "user_id     1\n",
              "anime_id    1\n",
              "rating     -1\n",
              "dtype: int64"
            ]
          },
          "metadata": {},
          "execution_count": 3
        }
      ],
      "source": [
        "rating_df.min()"
      ]
    },
    {
      "cell_type": "markdown",
      "metadata": {
        "id": "w2DOSIV0QIQb"
      },
      "source": [
        "According to the description of the dataset from kaggle, the rating column has a value of -1 if the user watched the anime but did not rate it. Those record should be deleted"
      ]
    },
    {
      "cell_type": "code",
      "execution_count": null,
      "metadata": {
        "colab": {
          "base_uri": "https://localhost:8080/"
        },
        "id": "HfTKGB0vEdCT",
        "outputId": "34f31590-4525-4efe-ddf9-a34aee58f88a"
      },
      "outputs": [
        {
          "output_type": "stream",
          "name": "stdout",
          "text": [
            "<class 'pandas.core.frame.DataFrame'>\n",
            "Int64Index: 6266296 entries, 47 to 7712177\n",
            "Data columns (total 3 columns):\n",
            " #   Column    Dtype\n",
            "---  ------    -----\n",
            " 0   user_id   int64\n",
            " 1   anime_id  int64\n",
            " 2   rating    int64\n",
            "dtypes: int64(3)\n",
            "memory usage: 191.2 MB\n"
          ]
        }
      ],
      "source": [
        "not_rated_anime_index = rating_df[(rating_df['rating'] == -1)].index\n",
        "rating_df = rating_df.drop(not_rated_anime_index)\n",
        "rating_df.info()"
      ]
    },
    {
      "cell_type": "code",
      "execution_count": null,
      "metadata": {
        "colab": {
          "base_uri": "https://localhost:8080/"
        },
        "id": "0jkdJBMmnUDe",
        "outputId": "512f2ef0-e9f8-45a3-f328-064053b1752b"
      },
      "outputs": [
        {
          "output_type": "execute_result",
          "data": {
            "text/plain": [
              "user_id     0\n",
              "anime_id    0\n",
              "rating      0\n",
              "dtype: int64"
            ]
          },
          "metadata": {},
          "execution_count": 5
        }
      ],
      "source": [
        "rating_df.isnull().sum()"
      ]
    },
    {
      "cell_type": "code",
      "execution_count": null,
      "metadata": {
        "colab": {
          "base_uri": "https://localhost:8080/"
        },
        "id": "8hLdwRFDD5Qc",
        "outputId": "ce30c95a-5d7e-445f-d2b7-2b11ed78ef86"
      },
      "outputs": [
        {
          "output_type": "execute_result",
          "data": {
            "text/plain": [
              "user_id     73516\n",
              "anime_id    34475\n",
              "rating         10\n",
              "dtype: int64"
            ]
          },
          "metadata": {},
          "execution_count": 6
        }
      ],
      "source": [
        "rating_df.max()"
      ]
    },
    {
      "cell_type": "markdown",
      "source": [
        "# Visualization of rating data\n",
        "\n",
        "Idea is that we will try to split all ratings into training and test datasets.\n",
        "We will need to create user-item matrix with those records.\n",
        "Problem is that there are some animes with low number of ratings, and we can avoid those records in training set. That scenario will have impact on dimension of matrix and then we cound't do testing"
      ],
      "metadata": {
        "id": "MIwOXuhuPRSq"
      }
    },
    {
      "cell_type": "code",
      "source": [
        "rating_slice_df = rating_df"
      ],
      "metadata": {
        "id": "5Z3cDVFVTF_M"
      },
      "execution_count": null,
      "outputs": []
    },
    {
      "cell_type": "markdown",
      "source": [
        "Count how many votes have every single anime.\n",
        " \n",
        "*anime_counts* is Series that for *index* contains *anime_id* and for values number of ratings that anime have"
      ],
      "metadata": {
        "id": "Xs00pQYYYSAH"
      }
    },
    {
      "cell_type": "code",
      "source": [
        "anime_counts = rating_slice_df['anime_id'].value_counts()"
      ],
      "metadata": {
        "id": "W5tASmTGSJUC"
      },
      "execution_count": null,
      "outputs": []
    },
    {
      "cell_type": "code",
      "source": [
        "anime_counts = anime_counts.sort_values()\n",
        "anime_counts"
      ],
      "metadata": {
        "colab": {
          "base_uri": "https://localhost:8080/"
        },
        "id": "oEWBQB0TTQ-M",
        "outputId": "87f97f62-b212-4b84-ffe2-dd16011cfa64"
      },
      "execution_count": null,
      "outputs": [
        {
          "output_type": "execute_result",
          "data": {
            "text/plain": [
              "8749         1\n",
              "24269        1\n",
              "33907        1\n",
              "33908        1\n",
              "22241        1\n",
              "         ...  \n",
              "6547     23565\n",
              "1575     24126\n",
              "16498    25290\n",
              "11757    26310\n",
              "1535     34226\n",
              "Name: anime_id, Length: 8826, dtype: int64"
            ]
          },
          "metadata": {},
          "execution_count": 9
        }
      ]
    },
    {
      "cell_type": "code",
      "source": [
        "import matplotlib.pyplot as plt"
      ],
      "metadata": {
        "id": "6ar9jjeLTq1W"
      },
      "execution_count": null,
      "outputs": []
    },
    {
      "cell_type": "code",
      "source": [
        "plt.plot(anime_counts.values)\n",
        "plt.xlabel(\"index in sorted anime_counts\")\n",
        "plt.ylabel(\"Num of votes\")"
      ],
      "metadata": {
        "colab": {
          "base_uri": "https://localhost:8080/",
          "height": 468
        },
        "id": "JEdbdNz2Tsl_",
        "outputId": "dadb03df-11fe-4061-9dfa-c76354ad4676"
      },
      "execution_count": null,
      "outputs": [
        {
          "output_type": "execute_result",
          "data": {
            "text/plain": [
              "Text(0, 0.5, 'Num of votes')"
            ]
          },
          "metadata": {},
          "execution_count": 11
        },
        {
          "output_type": "display_data",
          "data": {
            "text/plain": [
              "<Figure size 640x480 with 1 Axes>"
            ],
            "image/png": "[encoded data removed]"
          },
          "metadata": {}
        }
      ]
    },
    {
      "cell_type": "markdown",
      "source": [
        "From graph we can see that most of animes have low amount of votes.\n",
        "\n",
        "Now we will group animes with same amout of votes to create better representation of information about vote frequency.\n",
        "\n",
        "That information will be stored into *grouped_anime_counts* [number of votes, number of anime with that amount of votes]"
      ],
      "metadata": {
        "id": "6ZQ1J7gnbTiJ"
      }
    },
    {
      "cell_type": "code",
      "source": [
        "grouped_anime_counts = anime_counts.groupby(anime_counts).size()\n",
        "grouped_anime_counts = grouped_anime_counts.sort_index()\n",
        "grouped_anime_counts"
      ],
      "metadata": {
        "colab": {
          "base_uri": "https://localhost:8080/"
        },
        "id": "DxI3IwvyV4bt",
        "outputId": "7b2add04-93cd-4177-b152-91643dd585c3"
      },
      "execution_count": null,
      "outputs": [
        {
          "output_type": "execute_result",
          "data": {
            "text/plain": [
              "anime_id\n",
              "1        800\n",
              "2        482\n",
              "3        293\n",
              "4        226\n",
              "5        145\n",
              "        ... \n",
              "23565      1\n",
              "24126      1\n",
              "25290      1\n",
              "26310      1\n",
              "34226      1\n",
              "Name: anime_id, Length: 2076, dtype: int64"
            ]
          },
          "metadata": {},
          "execution_count": 12
        }
      ]
    },
    {
      "cell_type": "code",
      "source": [
        "grouped_anime_counts[:20]"
      ],
      "metadata": {
        "colab": {
          "base_uri": "https://localhost:8080/"
        },
        "id": "O-oERXLbdFbh",
        "outputId": "30c49f34-2f7f-435a-da35-7b979f30d1b7"
      },
      "execution_count": null,
      "outputs": [
        {
          "output_type": "execute_result",
          "data": {
            "text/plain": [
              "anime_id\n",
              "1     800\n",
              "2     482\n",
              "3     293\n",
              "4     226\n",
              "5     145\n",
              "6     151\n",
              "7     120\n",
              "8     106\n",
              "9      90\n",
              "10    105\n",
              "11     64\n",
              "12     64\n",
              "13     70\n",
              "14     79\n",
              "15     77\n",
              "16     61\n",
              "17     58\n",
              "18     43\n",
              "19     47\n",
              "20     41\n",
              "Name: anime_id, dtype: int64"
            ]
          },
          "metadata": {},
          "execution_count": 13
        }
      ]
    },
    {
      "cell_type": "markdown",
      "source": [
        "From print above we can see that most of animes have less than 10 votes.\n",
        "Those animes will be removed from dataframe because we will drasticly remove dimensionality of user-item matrix and minimize chances for losing anime in training set."
      ],
      "metadata": {
        "id": "-YmEXDEhvjFM"
      }
    },
    {
      "cell_type": "code",
      "source": [
        "anime_counts = anime_counts[anime_counts > 10]\n",
        "anime_counts"
      ],
      "metadata": {
        "colab": {
          "base_uri": "https://localhost:8080/"
        },
        "id": "nbaSNrOKwooV",
        "outputId": "2eba1c9a-0692-4079-bf3f-cecbbf2842e2"
      },
      "execution_count": null,
      "outputs": [
        {
          "output_type": "execute_result",
          "data": {
            "text/plain": [
              "4509        11\n",
              "31634       11\n",
              "32481       11\n",
              "5237        11\n",
              "18425       11\n",
              "         ...  \n",
              "6547     23565\n",
              "1575     24126\n",
              "16498    25290\n",
              "11757    26310\n",
              "1535     34226\n",
              "Name: anime_id, Length: 6308, dtype: int64"
            ]
          },
          "metadata": {},
          "execution_count": 14
        }
      ]
    },
    {
      "cell_type": "code",
      "source": [
        "rating_slice_df"
      ],
      "metadata": {
        "colab": {
          "base_uri": "https://localhost:8080/",
          "height": 423
        },
        "id": "qXkrnxyezMjd",
        "outputId": "430e34a4-e89d-4c9c-b6ec-b978927a73c2"
      },
      "execution_count": null,
      "outputs": [
        {
          "output_type": "execute_result",
          "data": {
            "text/plain": [
              "         user_id  anime_id  rating\n",
              "47             1      8074      10\n",
              "81             1     11617      10\n",
              "83             1     11757      10\n",
              "101            1     15451      10\n",
              "153            2     11771      10\n",
              "...          ...       ...     ...\n",
              "7712173    73515     16512       7\n",
              "7712174    73515     17187       9\n",
              "7712175    73515     22145      10\n",
              "7712176    73516       790       9\n",
              "7712177    73516      8074       9\n",
              "\n",
              "[6266296 rows x 3 columns]"
            ],
            "text/html": [
              "\n",
              "  <div id=\"df-c2574cbf-ec64-478b-8485-6ef36293d787\">\n",
              "    <div class=\"colab-df-container\">\n",
              "      <div>\n",
              "<style scoped>\n",
              "    .dataframe tbody tr th:only-of-type {\n",
              "        vertical-align: middle;\n",
              "    }\n",
              "\n",
              "    .dataframe tbody tr th {\n",
              "        vertical-align: top;\n",
              "    }\n",
              "\n",
              "    .dataframe thead th {\n",
              "        text-align: right;\n",
              "    }\n",
              "</style>\n",
              "<table border=\"1\" class=\"dataframe\">\n",
              "  <thead>\n",
              "    <tr style=\"text-align: right;\">\n",
              "      <th></th>\n",
              "      <th>user_id</th>\n",
              "      <th>anime_id</th>\n",
              "      <th>rating</th>\n",
              "    </tr>\n",
              "  </thead>\n",
              "  <tbody>\n",
              "    <tr>\n",
              "      <th>47</th>\n",
              "      <td>1</td>\n",
              "      <td>8074</td>\n",
              "      <td>10</td>\n",
              "    </tr>\n",
              "    <tr>\n",
              "      <th>81</th>\n",
              "      <td>1</td>\n",
              "      <td>11617</td>\n",
              "      <td>10</td>\n",
              "    </tr>\n",
              "    <tr>\n",
              "      <th>83</th>\n",
              "      <td>1</td>\n",
              "      <td>11757</td>\n",
              "      <td>10</td>\n",
              "    </tr>\n",
              "    <tr>\n",
              "      <th>101</th>\n",
              "      <td>1</td>\n",
              "      <td>15451</td>\n",
              "      <td>10</td>\n",
              "    </tr>\n",
              "    <tr>\n",
              "      <th>153</th>\n",
              "      <td>2</td>\n",
              "      <td>11771</td>\n",
              "      <td>10</td>\n",
              "    </tr>\n",
              "    <tr>\n",
              "      <th>...</th>\n",
              "      <td>...</td>\n",
              "      <td>...</td>\n",
              "      <td>...</td>\n",
              "    </tr>\n",
              "    <tr>\n",
              "      <th>7712173</th>\n",
              "      <td>73515</td>\n",
              "      <td>16512</td>\n",
              "      <td>7</td>\n",
              "    </tr>\n",
              "    <tr>\n",
              "      <th>7712174</th>\n",
              "      <td>73515</td>\n",
              "      <td>17187</td>\n",
              "      <td>9</td>\n",
              "    </tr>\n",
              "    <tr>\n",
              "      <th>7712175</th>\n",
              "      <td>73515</td>\n",
              "      <td>22145</td>\n",
              "      <td>10</td>\n",
              "    </tr>\n",
              "    <tr>\n",
              "      <th>7712176</th>\n",
              "      <td>73516</td>\n",
              "      <td>790</td>\n",
              "      <td>9</td>\n",
              "    </tr>\n",
              "    <tr>\n",
              "      <th>7712177</th>\n",
              "      <td>73516</td>\n",
              "      <td>8074</td>\n",
              "      <td>9</td>\n",
              "    </tr>\n",
              "  </tbody>\n",
              "</table>\n",
              "<p>6266296 rows × 3 columns</p>\n",
              "</div>\n",
              "      <button class=\"colab-df-convert\" onclick=\"convertToInteractive('df-c2574cbf-ec64-478b-8485-6ef36293d787')\"\n",
              "              title=\"Convert this dataframe to an interactive table.\"\n",
              "              style=\"display:none;\">\n",
              "        \n",
              "  <svg xmlns=\"http://www.w3.org/2000/svg\" height=\"24px\"viewBox=\"0 0 24 24\"\n",
              "       width=\"24px\">\n",
              "    <path d=\"M0 0h24v24H0V0z\" fill=\"none\"/>\n",
              "    <path d=\"M18.56 5.44l.94 2.06.94-2.06 2.06-.94-2.06-.94-.94-2.06-.94 2.06-2.06.94zm-11 1L8.5 8.5l.94-2.06 2.06-.94-2.06-.94L8.5 2.5l-.94 2.06-2.06.94zm10 10l.94 2.06.94-2.06 2.06-.94-2.06-.94-.94-2.06-.94 2.06-2.06.94z\"/><path d=\"M17.41 7.96l-1.37-1.37c-.4-.4-.92-.59-1.43-.59-.52 0-1.04.2-1.43.59L10.3 9.45l-7.72 7.72c-.78.78-.78 2.05 0 2.83L4 21.41c.39.39.9.59 1.41.59.51 0 1.02-.2 1.41-.59l7.78-7.78 2.81-2.81c.8-.78.8-2.07 0-2.86zM5.41 20L4 18.59l7.72-7.72 1.47 1.35L5.41 20z\"/>\n",
              "  </svg>\n",
              "      </button>\n",
              "      \n",
              "  <style>\n",
              "    .colab-df-container {\n",
              "      display:flex;\n",
              "      flex-wrap:wrap;\n",
              "      gap: 12px;\n",
              "    }\n",
              "\n",
              "    .colab-df-convert {\n",
              "      background-color: #E8F0FE;\n",
              "      border: none;\n",
              "      border-radius: 50%;\n",
              "      cursor: pointer;\n",
              "      display: none;\n",
              "      fill: #1967D2;\n",
              "      height: 32px;\n",
              "      padding: 0 0 0 0;\n",
              "      width: 32px;\n",
              "    }\n",
              "\n",
              "    .colab-df-convert:hover {\n",
              "      background-color: #E2EBFA;\n",
              "      box-shadow: 0px 1px 2px rgba(60, 64, 67, 0.3), 0px 1px 3px 1px rgba(60, 64, 67, 0.15);\n",
              "      fill: #174EA6;\n",
              "    }\n",
              "\n",
              "    [theme=dark] .colab-df-convert {\n",
              "      background-color: #3B4455;\n",
              "      fill: #D2E3FC;\n",
              "    }\n",
              "\n",
              "    [theme=dark] .colab-df-convert:hover {\n",
              "      background-color: #434B5C;\n",
              "      box-shadow: 0px 1px 3px 1px rgba(0, 0, 0, 0.15);\n",
              "      filter: drop-shadow(0px 1px 2px rgba(0, 0, 0, 0.3));\n",
              "      fill: #FFFFFF;\n",
              "    }\n",
              "  </style>\n",
              "\n",
              "      <script>\n",
              "        const buttonEl =\n",
              "          document.querySelector('#df-c2574cbf-ec64-478b-8485-6ef36293d787 button.colab-df-convert');\n",
              "        buttonEl.style.display =\n",
              "          google.colab.kernel.accessAllowed ? 'block' : 'none';\n",
              "\n",
              "        async function convertToInteractive(key) {\n",
              "          const element = document.querySelector('#df-c2574cbf-ec64-478b-8485-6ef36293d787');\n",
              "          const dataTable =\n",
              "            await google.colab.kernel.invokeFunction('convertToInteractive',\n",
              "                                                     [key], {});\n",
              "          if (!dataTable) return;\n",
              "\n",
              "          const docLinkHtml = 'Like what you see? Visit the ' +\n",
              "            '<a target=\"_blank\" href=https://colab.research.google.com/notebooks/data_table.ipynb>data table notebook</a>'\n",
              "            + ' to learn more about interactive tables.';\n",
              "          element.innerHTML = '';\n",
              "          dataTable['output_type'] = 'display_data';\n",
              "          await google.colab.output.renderOutput(dataTable, element);\n",
              "          const docLink = document.createElement('div');\n",
              "          docLink.innerHTML = docLinkHtml;\n",
              "          element.appendChild(docLink);\n",
              "        }\n",
              "      </script>\n",
              "    </div>\n",
              "  </div>\n",
              "  "
            ]
          },
          "metadata": {},
          "execution_count": 15
        }
      ]
    },
    {
      "cell_type": "code",
      "source": [
        "rating_slice_df = rating_slice_df[rating_slice_df['anime_id'].isin(anime_counts)]\n",
        "rating_slice_df"
      ],
      "metadata": {
        "colab": {
          "base_uri": "https://localhost:8080/",
          "height": 423
        },
        "id": "fS9tKW4HyTPN",
        "outputId": "e4000f24-1be1-445c-de78-fa97150234ba"
      },
      "execution_count": null,
      "outputs": [
        {
          "output_type": "execute_result",
          "data": {
            "text/plain": [
              "         user_id  anime_id  rating\n",
              "156            3        20       8\n",
              "157            3       154       6\n",
              "158            3       170       9\n",
              "159            3       199      10\n",
              "160            3       225       9\n",
              "...          ...       ...     ...\n",
              "7712078    73515      2759       9\n",
              "7712084    73515      3231       8\n",
              "7712090    73515      3594       9\n",
              "7712103    73515      4975       7\n",
              "7712113    73515      6213       9\n",
              "\n",
              "[1674266 rows x 3 columns]"
            ],
            "text/html": [
              "\n",
              "  <div id=\"df-a579d007-fd1d-48b3-9620-2a64ca22a817\">\n",
              "    <div class=\"colab-df-container\">\n",
              "      <div>\n",
              "<style scoped>\n",
              "    .dataframe tbody tr th:only-of-type {\n",
              "        vertical-align: middle;\n",
              "    }\n",
              "\n",
              "    .dataframe tbody tr th {\n",
              "        vertical-align: top;\n",
              "    }\n",
              "\n",
              "    .dataframe thead th {\n",
              "        text-align: right;\n",
              "    }\n",
              "</style>\n",
              "<table border=\"1\" class=\"dataframe\">\n",
              "  <thead>\n",
              "    <tr style=\"text-align: right;\">\n",
              "      <th></th>\n",
              "      <th>user_id</th>\n",
              "      <th>anime_id</th>\n",
              "      <th>rating</th>\n",
              "    </tr>\n",
              "  </thead>\n",
              "  <tbody>\n",
              "    <tr>\n",
              "      <th>156</th>\n",
              "      <td>3</td>\n",
              "      <td>20</td>\n",
              "      <td>8</td>\n",
              "    </tr>\n",
              "    <tr>\n",
              "      <th>157</th>\n",
              "      <td>3</td>\n",
              "      <td>154</td>\n",
              "      <td>6</td>\n",
              "    </tr>\n",
              "    <tr>\n",
              "      <th>158</th>\n",
              "      <td>3</td>\n",
              "      <td>170</td>\n",
              "      <td>9</td>\n",
              "    </tr>\n",
              "    <tr>\n",
              "      <th>159</th>\n",
              "      <td>3</td>\n",
              "      <td>199</td>\n",
              "      <td>10</td>\n",
              "    </tr>\n",
              "    <tr>\n",
              "      <th>160</th>\n",
              "      <td>3</td>\n",
              "      <td>225</td>\n",
              "      <td>9</td>\n",
              "    </tr>\n",
              "    <tr>\n",
              "      <th>...</th>\n",
              "      <td>...</td>\n",
              "      <td>...</td>\n",
              "      <td>...</td>\n",
              "    </tr>\n",
              "    <tr>\n",
              "      <th>7712078</th>\n",
              "      <td>73515</td>\n",
              "      <td>2759</td>\n",
              "      <td>9</td>\n",
              "    </tr>\n",
              "    <tr>\n",
              "      <th>7712084</th>\n",
              "      <td>73515</td>\n",
              "      <td>3231</td>\n",
              "      <td>8</td>\n",
              "    </tr>\n",
              "    <tr>\n",
              "      <th>7712090</th>\n",
              "      <td>73515</td>\n",
              "      <td>3594</td>\n",
              "      <td>9</td>\n",
              "    </tr>\n",
              "    <tr>\n",
              "      <th>7712103</th>\n",
              "      <td>73515</td>\n",
              "      <td>4975</td>\n",
              "      <td>7</td>\n",
              "    </tr>\n",
              "    <tr>\n",
              "      <th>7712113</th>\n",
              "      <td>73515</td>\n",
              "      <td>6213</td>\n",
              "      <td>9</td>\n",
              "    </tr>\n",
              "  </tbody>\n",
              "</table>\n",
              "<p>1674266 rows × 3 columns</p>\n",
              "</div>\n",
              "      <button class=\"colab-df-convert\" onclick=\"convertToInteractive('df-a579d007-fd1d-48b3-9620-2a64ca22a817')\"\n",
              "              title=\"Convert this dataframe to an interactive table.\"\n",
              "              style=\"display:none;\">\n",
              "        \n",
              "  <svg xmlns=\"http://www.w3.org/2000/svg\" height=\"24px\"viewBox=\"0 0 24 24\"\n",
              "       width=\"24px\">\n",
              "    <path d=\"M0 0h24v24H0V0z\" fill=\"none\"/>\n",
              "    <path d=\"M18.56 5.44l.94 2.06.94-2.06 2.06-.94-2.06-.94-.94-2.06-.94 2.06-2.06.94zm-11 1L8.5 8.5l.94-2.06 2.06-.94-2.06-.94L8.5 2.5l-.94 2.06-2.06.94zm10 10l.94 2.06.94-2.06 2.06-.94-2.06-.94-.94-2.06-.94 2.06-2.06.94z\"/><path d=\"M17.41 7.96l-1.37-1.37c-.4-.4-.92-.59-1.43-.59-.52 0-1.04.2-1.43.59L10.3 9.45l-7.72 7.72c-.78.78-.78 2.05 0 2.83L4 21.41c.39.39.9.59 1.41.59.51 0 1.02-.2 1.41-.59l7.78-7.78 2.81-2.81c.8-.78.8-2.07 0-2.86zM5.41 20L4 18.59l7.72-7.72 1.47 1.35L5.41 20z\"/>\n",
              "  </svg>\n",
              "      </button>\n",
              "      \n",
              "  <style>\n",
              "    .colab-df-container {\n",
              "      display:flex;\n",
              "      flex-wrap:wrap;\n",
              "      gap: 12px;\n",
              "    }\n",
              "\n",
              "    .colab-df-convert {\n",
              "      background-color: #E8F0FE;\n",
              "      border: none;\n",
              "      border-radius: 50%;\n",
              "      cursor: pointer;\n",
              "      display: none;\n",
              "      fill: #1967D2;\n",
              "      height: 32px;\n",
              "      padding: 0 0 0 0;\n",
              "      width: 32px;\n",
              "    }\n",
              "\n",
              "    .colab-df-convert:hover {\n",
              "      background-color: #E2EBFA;\n",
              "      box-shadow: 0px 1px 2px rgba(60, 64, 67, 0.3), 0px 1px 3px 1px rgba(60, 64, 67, 0.15);\n",
              "      fill: #174EA6;\n",
              "    }\n",
              "\n",
              "    [theme=dark] .colab-df-convert {\n",
              "      background-color: #3B4455;\n",
              "      fill: #D2E3FC;\n",
              "    }\n",
              "\n",
              "    [theme=dark] .colab-df-convert:hover {\n",
              "      background-color: #434B5C;\n",
              "      box-shadow: 0px 1px 3px 1px rgba(0, 0, 0, 0.15);\n",
              "      filter: drop-shadow(0px 1px 2px rgba(0, 0, 0, 0.3));\n",
              "      fill: #FFFFFF;\n",
              "    }\n",
              "  </style>\n",
              "\n",
              "      <script>\n",
              "        const buttonEl =\n",
              "          document.querySelector('#df-a579d007-fd1d-48b3-9620-2a64ca22a817 button.colab-df-convert');\n",
              "        buttonEl.style.display =\n",
              "          google.colab.kernel.accessAllowed ? 'block' : 'none';\n",
              "\n",
              "        async function convertToInteractive(key) {\n",
              "          const element = document.querySelector('#df-a579d007-fd1d-48b3-9620-2a64ca22a817');\n",
              "          const dataTable =\n",
              "            await google.colab.kernel.invokeFunction('convertToInteractive',\n",
              "                                                     [key], {});\n",
              "          if (!dataTable) return;\n",
              "\n",
              "          const docLinkHtml = 'Like what you see? Visit the ' +\n",
              "            '<a target=\"_blank\" href=https://colab.research.google.com/notebooks/data_table.ipynb>data table notebook</a>'\n",
              "            + ' to learn more about interactive tables.';\n",
              "          element.innerHTML = '';\n",
              "          dataTable['output_type'] = 'display_data';\n",
              "          await google.colab.output.renderOutput(dataTable, element);\n",
              "          const docLink = document.createElement('div');\n",
              "          docLink.innerHTML = docLinkHtml;\n",
              "          element.appendChild(docLink);\n",
              "        }\n",
              "      </script>\n",
              "    </div>\n",
              "  </div>\n",
              "  "
            ]
          },
          "metadata": {},
          "execution_count": 16
        }
      ]
    },
    {
      "cell_type": "markdown",
      "source": [
        "We drastically reduced the amount of data we will work with from rating dataframe :)"
      ],
      "metadata": {
        "id": "UhP-dRIQzhjW"
      }
    },
    {
      "cell_type": "markdown",
      "source": [
        "# User-Item matrix"
      ],
      "metadata": {
        "id": "91ngjBKMz-ZY"
      }
    },
    {
      "cell_type": "code",
      "execution_count": null,
      "metadata": {
        "colab": {
          "base_uri": "https://localhost:8080/"
        },
        "id": "SEq6Yz14AXiZ",
        "outputId": "6dfcec8d-6c14-4a65-e75b-910994cf07d6"
      },
      "outputs": [
        {
          "output_type": "stream",
          "name": "stdout",
          "text": [
            "Looking in indexes: https://pypi.org/simple, https://us-python.pkg.dev/colab-wheels/public/simple/\n",
            "Collecting scikit-surprise\n",
            "  Downloading scikit-surprise-1.1.3.tar.gz (771 kB)\n",
            "\u001b[2K     \u001b[90m━━━━━━━━━━━━━━━━━━━━━━━━━━━━━━━━━━━━━━\u001b[0m \u001b[32m772.0/772.0 kB\u001b[0m \u001b[31m16.3 MB/s\u001b[0m eta \u001b[36m0:00:00\u001b[0m\n",
            "\u001b[?25h  Preparing metadata (setup.py) ... \u001b[?25l\u001b[?25hdone\n",
            "Requirement already satisfied: joblib>=1.0.0 in /usr/local/lib/python3.10/dist-packages (from scikit-surprise) (1.2.0)\n",
            "Requirement already satisfied: numpy>=1.17.3 in /usr/local/lib/python3.10/dist-packages (from scikit-surprise) (1.22.4)\n",
            "Requirement already satisfied: scipy>=1.3.2 in /usr/local/lib/python3.10/dist-packages (from scikit-surprise) (1.10.1)\n",
            "Building wheels for collected packages: scikit-surprise\n",
            "  Building wheel for scikit-surprise (setup.py) ... \u001b[?25l\u001b[?25hdone\n",
            "  Created wheel for scikit-surprise: filename=scikit_surprise-1.1.3-cp310-cp310-linux_x86_64.whl size=3095418 sha256=2f85b72a20177a3b64bc4ce2afb1813232fd6419a6612255632dcfd198179f42\n",
            "  Stored in directory: /root/.cache/pip/wheels/a5/ca/a8/4e28def53797fdc4363ca4af740db15a9c2f1595ebc51fb445\n",
            "Successfully built scikit-surprise\n",
            "Installing collected packages: scikit-surprise\n",
            "Successfully installed scikit-surprise-1.1.3\n"
          ]
        }
      ],
      "source": [
        "!pip install scikit-surprise"
      ]
    },
    {
      "cell_type": "code",
      "execution_count": null,
      "metadata": {
        "id": "zEEZShtOAP1g"
      },
      "outputs": [],
      "source": [
        "from surprise import Reader\n",
        "from surprise import Dataset\n",
        "reader = Reader(rating_scale=(1, 10))\n",
        "data = Dataset.load_from_df(rating_slice_df[[\"user_id\", \"anime_id\", \"rating\"]], reader)"
      ]
    },
    {
      "cell_type": "code",
      "execution_count": null,
      "metadata": {
        "colab": {
          "base_uri": "https://localhost:8080/"
        },
        "id": "I2L5T18rk8kA",
        "outputId": "cd1be0f5-9f03-471f-db81-760790f6e801"
      },
      "outputs": [
        {
          "output_type": "stream",
          "name": "stdout",
          "text": [
            "Evaluating RMSE, MAE of algorithm SVD on 5 split(s).\n",
            "\n",
            "                  Fold 1  Fold 2  Fold 3  Fold 4  Fold 5  Mean    Std     \n",
            "RMSE (testset)    1.2382  1.2335  1.2336  1.2366  1.2367  1.2357  0.0019  \n",
            "MAE (testset)     0.9343  0.9320  0.9324  0.9338  0.9334  0.9332  0.0009  \n",
            "Fit time          35.28   25.81   28.71   26.89   27.40   28.82   3.36    \n",
            "Test time         5.44    6.05    5.67    4.96    5.22    5.47    0.37    \n"
          ]
        },
        {
          "output_type": "execute_result",
          "data": {
            "text/plain": [
              "{'test_rmse': array([1.23822835, 1.23352648, 1.23361477, 1.23664714, 1.23670919]),\n",
              " 'test_mae': array([0.93428205, 0.93197474, 0.93236945, 0.93377458, 0.93340116]),\n",
              " 'fit_time': (35.27725267410278,\n",
              "  25.811567068099976,\n",
              "  28.713794946670532,\n",
              "  26.891103982925415,\n",
              "  27.40429711341858),\n",
              " 'test_time': (5.4375104904174805,\n",
              "  6.048529863357544,\n",
              "  5.668503046035767,\n",
              "  4.962202787399292,\n",
              "  5.223474740982056)}"
            ]
          },
          "metadata": {},
          "execution_count": 19
        }
      ],
      "source": [
        "from surprise import SVD\n",
        "from surprise.model_selection import cross_validate\n",
        "cross_validate(SVD(), data, measures=[\"RMSE\", \"MAE\"], cv=5, verbose=True)"
      ]
    },
    {
      "cell_type": "code",
      "execution_count": null,
      "metadata": {
        "id": "5o6w6xGyE6iB"
      },
      "outputs": [],
      "source": [
        "from surprise.model_selection import train_test_split\n",
        "trainset, testset = train_test_split(data, test_size=0.25)"
      ]
    },
    {
      "cell_type": "code",
      "execution_count": null,
      "metadata": {
        "colab": {
          "base_uri": "https://localhost:8080/"
        },
        "id": "4LoBroHYJPz5",
        "outputId": "a3b1ee9e-c2c7-4b78-e5b8-4adaea145ba3"
      },
      "outputs": [
        {
          "output_type": "execute_result",
          "data": {
            "text/plain": [
              "<surprise.prediction_algorithms.matrix_factorization.SVD at 0x7fb5367dea40>"
            ]
          },
          "metadata": {},
          "execution_count": 21
        }
      ],
      "source": [
        "from surprise import SVD\n",
        "algo = SVD()\n",
        "algo.fit(trainset)"
      ]
    },
    {
      "cell_type": "code",
      "execution_count": null,
      "metadata": {
        "id": "A37irosudN4O"
      },
      "outputs": [],
      "source": [
        "predictions = algo.test(testset)"
      ]
    },
    {
      "cell_type": "code",
      "source": [
        "from surprise import accuracy\n",
        "accuracy.rmse(predictions)"
      ],
      "metadata": {
        "colab": {
          "base_uri": "https://localhost:8080/"
        },
        "id": "OyTRvjlj6lJj",
        "outputId": "776b2a29-a25a-421d-97f3-eed6a10373ac"
      },
      "execution_count": null,
      "outputs": [
        {
          "output_type": "stream",
          "name": "stdout",
          "text": [
            "RMSE: 1.2434\n"
          ]
        },
        {
          "output_type": "execute_result",
          "data": {
            "text/plain": [
              "1.243352042030407"
            ]
          },
          "metadata": {},
          "execution_count": 23
        }
      ]
    },
    {
      "cell_type": "markdown",
      "source": [
        "# Recommendations for specific users"
      ],
      "metadata": {
        "id": "GJPVxLFd69DS"
      }
    },
    {
      "cell_type": "markdown",
      "metadata": {
        "id": "78F1Kl_IKH-s"
      },
      "source": [
        "recommendation of N anime that the user have never watched"
      ]
    },
    {
      "cell_type": "code",
      "execution_count": null,
      "metadata": {
        "id": "R2pV7yxSKGk3"
      },
      "outputs": [],
      "source": [
        "number_of_recommendation = 25"
      ]
    },
    {
      "cell_type": "code",
      "execution_count": null,
      "metadata": {
        "colab": {
          "base_uri": "https://localhost:8080/"
        },
        "id": "4NE-9YRtL1oJ",
        "outputId": "e8976b81-6944-4502-cd6a-45b2b32e66f5"
      },
      "outputs": [
        {
          "output_type": "stream",
          "name": "stdout",
          "text": [
            "56263      1\n",
            "14965      1\n",
            "12697      1\n",
            "57939      1\n",
            "73094      1\n",
            "        ... \n",
            "45659    622\n",
            "11398    627\n",
            "7345     682\n",
            "51806    686\n",
            "42635    913\n",
            "Name: user_id, Length: 63135, dtype: int64\n"
          ]
        }
      ],
      "source": [
        "rating_counts = rating_slice_df['user_id'].value_counts().sort_values()\n",
        "print(rating_counts)"
      ]
    },
    {
      "cell_type": "markdown",
      "source": [
        "Let's show how often users vote"
      ],
      "metadata": {
        "id": "njeymDij8mHv"
      }
    },
    {
      "cell_type": "code",
      "source": [
        "plt.plot(rating_counts.values)\n",
        "plt.ylabel(\"Num of votes\")"
      ],
      "metadata": {
        "colab": {
          "base_uri": "https://localhost:8080/",
          "height": 448
        },
        "id": "WGh16SYO8lnW",
        "outputId": "ede1fbe9-a600-4a87-b6ee-8efbc9fe0133"
      },
      "execution_count": null,
      "outputs": [
        {
          "output_type": "execute_result",
          "data": {
            "text/plain": [
              "Text(0, 0.5, 'Num of votes')"
            ]
          },
          "metadata": {},
          "execution_count": 26
        },
        {
          "output_type": "display_data",
          "data": {
            "text/plain": [
              "<Figure size 640x480 with 1 Axes>"
            ],
            "image/png": "[encoded data removed]"
          },
          "metadata": {}
        }
      ]
    },
    {
      "cell_type": "code",
      "source": [
        "grouped_user_counts = rating_counts.groupby(rating_counts).size()\n",
        "grouped_user_counts = grouped_user_counts.sort_index()\n",
        "grouped_user_counts"
      ],
      "metadata": {
        "colab": {
          "base_uri": "https://localhost:8080/"
        },
        "id": "cPf9r5MG9oDZ",
        "outputId": "18b1fd15-c456-495d-8160-67f31205eb3f"
      },
      "execution_count": null,
      "outputs": [
        {
          "output_type": "execute_result",
          "data": {
            "text/plain": [
              "user_id\n",
              "1      5634\n",
              "2      3991\n",
              "3      3235\n",
              "4      2818\n",
              "5      2440\n",
              "       ... \n",
              "622       1\n",
              "627       1\n",
              "682       1\n",
              "686       1\n",
              "913       1\n",
              "Name: user_id, Length: 383, dtype: int64"
            ]
          },
          "metadata": {},
          "execution_count": 27
        }
      ]
    },
    {
      "cell_type": "code",
      "execution_count": null,
      "metadata": {
        "colab": {
          "base_uri": "https://localhost:8080/"
        },
        "id": "gjvshroFQfmY",
        "outputId": "7649d632-d9d0-4434-d8c7-c3372b8c1867"
      },
      "outputs": [
        {
          "output_type": "execute_result",
          "data": {
            "text/plain": [
              "28040    100\n",
              "36610    100\n",
              "37870    100\n",
              "24822    100\n",
              "25262    100\n",
              "        ... \n",
              "59643    474\n",
              "51693    474\n",
              "30597    475\n",
              "6384     481\n",
              "60743    494\n",
              "Name: user_id, Length: 2918, dtype: int64"
            ]
          },
          "metadata": {},
          "execution_count": 28
        }
      ],
      "source": [
        "rating_counts.loc[rating_counts.between(100,500)]"
      ]
    },
    {
      "cell_type": "markdown",
      "source": [
        "Selection of different group of users "
      ],
      "metadata": {
        "id": "okd9rnyoO1Mb"
      }
    },
    {
      "cell_type": "code",
      "source": [
        "points = [0, 10, 50, 150, 350, 700, 1000]\n",
        "test_users = []\n",
        "for i, p in enumerate(points[:-1]):\n",
        "  start, end = p, points[i+1]\n",
        "  test_users.append(rating_counts.loc[rating_counts.between(start,end)].sample())\n",
        "test_users"
      ],
      "metadata": {
        "colab": {
          "base_uri": "https://localhost:8080/"
        },
        "id": "fNskh3HgJt67",
        "outputId": "c9693013-c8eb-445b-9191-68f3e5653458"
      },
      "execution_count": null,
      "outputs": [
        {
          "output_type": "execute_result",
          "data": {
            "text/plain": [
              "[69336    3\n",
              " Name: user_id, dtype: int64,\n",
              " 12466    17\n",
              " Name: user_id, dtype: int64,\n",
              " 31702    51\n",
              " Name: user_id, dtype: int64,\n",
              " 51240    221\n",
              " Name: user_id, dtype: int64,\n",
              " 23257    379\n",
              " Name: user_id, dtype: int64,\n",
              " 42635    913\n",
              " Name: user_id, dtype: int64]"
            ]
          },
          "metadata": {},
          "execution_count": 29
        }
      ]
    },
    {
      "cell_type": "code",
      "source": [
        "user_num = 0\n",
        "user_id = test_users[user_num].index[0]"
      ],
      "metadata": {
        "id": "mRERMcsRbgyg"
      },
      "execution_count": null,
      "outputs": []
    },
    {
      "cell_type": "code",
      "execution_count": null,
      "metadata": {
        "id": "GMSqAnJkNqLY"
      },
      "outputs": [],
      "source": [
        "anime_df = pd.read_csv(ANIME_CSV_PATH)\n",
        "anime_ids = anime_df['MAL_ID']\n",
        "watched_anime = rating_slice_df[(rating_slice_df['user_id'] == user_id)]\n"
      ]
    },
    {
      "cell_type": "code",
      "execution_count": null,
      "metadata": {
        "id": "YhR8sjtSUJll"
      },
      "outputs": [],
      "source": [
        "mask = anime_ids.isin(watched_anime['anime_id'])"
      ]
    },
    {
      "cell_type": "code",
      "execution_count": null,
      "metadata": {
        "id": "VcKep9SFX6_X"
      },
      "outputs": [],
      "source": [
        "unwatched_anime = anime_ids.loc[~mask]"
      ]
    },
    {
      "cell_type": "code",
      "execution_count": null,
      "metadata": {
        "colab": {
          "base_uri": "https://localhost:8080/"
        },
        "id": "GLdzDhSfYE4y",
        "outputId": "cce46ce7-d7dc-4e59-9d39-2882dad899eb"
      },
      "outputs": [
        {
          "output_type": "execute_result",
          "data": {
            "text/plain": [
              "0            1\n",
              "1            5\n",
              "2            6\n",
              "3            7\n",
              "4            8\n",
              "         ...  \n",
              "16146    48481\n",
              "16147    48483\n",
              "16148    48488\n",
              "16149    48491\n",
              "16150    48492\n",
              "Name: MAL_ID, Length: 16148, dtype: int64"
            ]
          },
          "metadata": {},
          "execution_count": 34
        }
      ],
      "source": [
        "unwatched_anime"
      ]
    },
    {
      "cell_type": "code",
      "execution_count": null,
      "metadata": {
        "colab": {
          "base_uri": "https://localhost:8080/"
        },
        "id": "bpnoAU0aYN-D",
        "outputId": "0967e4c4-43a9-455f-f233-c7f9336110db"
      },
      "outputs": [
        {
          "output_type": "execute_result",
          "data": {
            "text/plain": [
              "7335011    121\n",
              "7335012    430\n",
              "7335013    889\n",
              "Name: anime_id, dtype: int64"
            ]
          },
          "metadata": {},
          "execution_count": 35
        }
      ],
      "source": [
        "watched_anime['anime_id']"
      ]
    },
    {
      "cell_type": "code",
      "execution_count": null,
      "metadata": {
        "id": "bIdaL-YHZ0iM"
      },
      "outputs": [],
      "source": [
        "predictions = []\n",
        "for anime_id in unwatched_anime:\n",
        "  predictions.append(algo.predict(user_id, anime_id ))"
      ]
    },
    {
      "cell_type": "code",
      "execution_count": null,
      "metadata": {
        "id": "VxOJpP2YhEvd"
      },
      "outputs": [],
      "source": [
        "sorted_by_rating = sorted(predictions, key= lambda x: x.est, reverse = True)\n",
        "\n"
      ]
    },
    {
      "cell_type": "code",
      "execution_count": null,
      "metadata": {
        "id": "JxFMzIIEhmSL"
      },
      "outputs": [],
      "source": [
        "recommendation_df = pd.DataFrame(columns = ['MAL_ID', 'Name', 'Estimation'])\n",
        "anime_groups_df = pd.read_csv(ANIME_SERIES_CSV_PATH, index_col=0)\n",
        "rec_group = set()\n",
        "for pred in sorted_by_rating[0:number_of_recommendation]:\n",
        "  rec_anime_id = pred.iid\n",
        "  rec_est = pred.est\n",
        "  new_rec = anime_df.loc[anime_df['MAL_ID'] == rec_anime_id]\n",
        "  new_rec = new_rec[['MAL_ID', 'Name']].copy()\n",
        "  new_rec['Estimation'] = rec_est\n",
        "  anime_group = anime_groups_df.loc[anime_groups_df['MAL_ID'] == rec_anime_id]\n",
        "  if anime_group.empty == False:\n",
        "    if int(anime_group['Group']) in rec_group:\n",
        "      print('Pronasao sam jednog iz grupe ', int(anime_group['Group']), ' sa nazivom ', anime_group['Name'])\n",
        "      continue\n",
        "    else:\n",
        "      rec_group.add(int(anime_group['Group']))\n",
        "  recommendation_df = pd.concat([recommendation_df, new_rec], axis=0, ignore_index = True)\n",
        "\n",
        "\n",
        "\n"
      ]
    },
    {
      "cell_type": "code",
      "source": [
        "anime_groups_df.loc[anime_groups_df['Group'] == 5]"
      ],
      "metadata": {
        "colab": {
          "base_uri": "https://localhost:8080/",
          "height": 175
        },
        "id": "ip-iskNV-iVk",
        "outputId": "8cf82b32-4508-4c98-9fc2-5b5c34926f37"
      },
      "execution_count": null,
      "outputs": [
        {
          "output_type": "execute_result",
          "data": {
            "text/plain": [
              "                                                 Name  MAL_ID  Group\n",
              "17  Rurouni Kenshin: Meiji Kenkaku Romantan - Tsui...      44      5\n",
              "18            Rurouni Kenshin: Meiji Kenkaku Romantan      45      5\n",
              "19  Rurouni Kenshin: Meiji Kenkaku Romantan - Shin...   11441      5\n",
              "20  Rurouni Kenshin: Meiji Kenkaku Romantan - Seis...     401      5"
            ],
            "text/html": [
              "\n",
              "  <div id=\"df-0f34926f-0eab-4a23-82f4-a1e0407839f9\">\n",
              "    <div class=\"colab-df-container\">\n",
              "      <div>\n",
              "<style scoped>\n",
              "    .dataframe tbody tr th:only-of-type {\n",
              "        vertical-align: middle;\n",
              "    }\n",
              "\n",
              "    .dataframe tbody tr th {\n",
              "        vertical-align: top;\n",
              "    }\n",
              "\n",
              "    .dataframe thead th {\n",
              "        text-align: right;\n",
              "    }\n",
              "</style>\n",
              "<table border=\"1\" class=\"dataframe\">\n",
              "  <thead>\n",
              "    <tr style=\"text-align: right;\">\n",
              "      <th></th>\n",
              "      <th>Name</th>\n",
              "      <th>MAL_ID</th>\n",
              "      <th>Group</th>\n",
              "    </tr>\n",
              "  </thead>\n",
              "  <tbody>\n",
              "    <tr>\n",
              "      <th>17</th>\n",
              "      <td>Rurouni Kenshin: Meiji Kenkaku Romantan - Tsui...</td>\n",
              "      <td>44</td>\n",
              "      <td>5</td>\n",
              "    </tr>\n",
              "    <tr>\n",
              "      <th>18</th>\n",
              "      <td>Rurouni Kenshin: Meiji Kenkaku Romantan</td>\n",
              "      <td>45</td>\n",
              "      <td>5</td>\n",
              "    </tr>\n",
              "    <tr>\n",
              "      <th>19</th>\n",
              "      <td>Rurouni Kenshin: Meiji Kenkaku Romantan - Shin...</td>\n",
              "      <td>11441</td>\n",
              "      <td>5</td>\n",
              "    </tr>\n",
              "    <tr>\n",
              "      <th>20</th>\n",
              "      <td>Rurouni Kenshin: Meiji Kenkaku Romantan - Seis...</td>\n",
              "      <td>401</td>\n",
              "      <td>5</td>\n",
              "    </tr>\n",
              "  </tbody>\n",
              "</table>\n",
              "</div>\n",
              "      <button class=\"colab-df-convert\" onclick=\"convertToInteractive('df-0f34926f-0eab-4a23-82f4-a1e0407839f9')\"\n",
              "              title=\"Convert this dataframe to an interactive table.\"\n",
              "              style=\"display:none;\">\n",
              "        \n",
              "  <svg xmlns=\"http://www.w3.org/2000/svg\" height=\"24px\"viewBox=\"0 0 24 24\"\n",
              "       width=\"24px\">\n",
              "    <path d=\"M0 0h24v24H0V0z\" fill=\"none\"/>\n",
              "    <path d=\"M18.56 5.44l.94 2.06.94-2.06 2.06-.94-2.06-.94-.94-2.06-.94 2.06-2.06.94zm-11 1L8.5 8.5l.94-2.06 2.06-.94-2.06-.94L8.5 2.5l-.94 2.06-2.06.94zm10 10l.94 2.06.94-2.06 2.06-.94-2.06-.94-.94-2.06-.94 2.06-2.06.94z\"/><path d=\"M17.41 7.96l-1.37-1.37c-.4-.4-.92-.59-1.43-.59-.52 0-1.04.2-1.43.59L10.3 9.45l-7.72 7.72c-.78.78-.78 2.05 0 2.83L4 21.41c.39.39.9.59 1.41.59.51 0 1.02-.2 1.41-.59l7.78-7.78 2.81-2.81c.8-.78.8-2.07 0-2.86zM5.41 20L4 18.59l7.72-7.72 1.47 1.35L5.41 20z\"/>\n",
              "  </svg>\n",
              "      </button>\n",
              "      \n",
              "  <style>\n",
              "    .colab-df-container {\n",
              "      display:flex;\n",
              "      flex-wrap:wrap;\n",
              "      gap: 12px;\n",
              "    }\n",
              "\n",
              "    .colab-df-convert {\n",
              "      background-color: #E8F0FE;\n",
              "      border: none;\n",
              "      border-radius: 50%;\n",
              "      cursor: pointer;\n",
              "      display: none;\n",
              "      fill: #1967D2;\n",
              "      height: 32px;\n",
              "      padding: 0 0 0 0;\n",
              "      width: 32px;\n",
              "    }\n",
              "\n",
              "    .colab-df-convert:hover {\n",
              "      background-color: #E2EBFA;\n",
              "      box-shadow: 0px 1px 2px rgba(60, 64, 67, 0.3), 0px 1px 3px 1px rgba(60, 64, 67, 0.15);\n",
              "      fill: #174EA6;\n",
              "    }\n",
              "\n",
              "    [theme=dark] .colab-df-convert {\n",
              "      background-color: #3B4455;\n",
              "      fill: #D2E3FC;\n",
              "    }\n",
              "\n",
              "    [theme=dark] .colab-df-convert:hover {\n",
              "      background-color: #434B5C;\n",
              "      box-shadow: 0px 1px 3px 1px rgba(0, 0, 0, 0.15);\n",
              "      filter: drop-shadow(0px 1px 2px rgba(0, 0, 0, 0.3));\n",
              "      fill: #FFFFFF;\n",
              "    }\n",
              "  </style>\n",
              "\n",
              "      <script>\n",
              "        const buttonEl =\n",
              "          document.querySelector('#df-0f34926f-0eab-4a23-82f4-a1e0407839f9 button.colab-df-convert');\n",
              "        buttonEl.style.display =\n",
              "          google.colab.kernel.accessAllowed ? 'block' : 'none';\n",
              "\n",
              "        async function convertToInteractive(key) {\n",
              "          const element = document.querySelector('#df-0f34926f-0eab-4a23-82f4-a1e0407839f9');\n",
              "          const dataTable =\n",
              "            await google.colab.kernel.invokeFunction('convertToInteractive',\n",
              "                                                     [key], {});\n",
              "          if (!dataTable) return;\n",
              "\n",
              "          const docLinkHtml = 'Like what you see? Visit the ' +\n",
              "            '<a target=\"_blank\" href=https://colab.research.google.com/notebooks/data_table.ipynb>data table notebook</a>'\n",
              "            + ' to learn more about interactive tables.';\n",
              "          element.innerHTML = '';\n",
              "          dataTable['output_type'] = 'display_data';\n",
              "          await google.colab.output.renderOutput(dataTable, element);\n",
              "          const docLink = document.createElement('div');\n",
              "          docLink.innerHTML = docLinkHtml;\n",
              "          element.appendChild(docLink);\n",
              "        }\n",
              "      </script>\n",
              "    </div>\n",
              "  </div>\n",
              "  "
            ]
          },
          "metadata": {},
          "execution_count": 39
        }
      ]
    },
    {
      "cell_type": "code",
      "execution_count": null,
      "metadata": {
        "colab": {
          "base_uri": "https://localhost:8080/",
          "height": 833
        },
        "id": "UbGAFDJKm8Pg",
        "outputId": "49e54df2-07dc-4581-82c0-2141ea6d81e0"
      },
      "outputs": [
        {
          "output_type": "execute_result",
          "data": {
            "text/plain": [
              "   MAL_ID                                               Name  Estimation\n",
              "0     820                               Ginga Eiyuu Densetsu    9.594884\n",
              "1     199                      Sen to Chihiro no Kamikakushi    9.517046\n",
              "2     918                                            Gintama    9.444418\n",
              "3    6594                                       Katanagatari    9.254977\n",
              "4     431                                Howl no Ugoku Shiro    9.215057\n",
              "5   11979  Mahou Shoujo Madoka★Magica Movie 2: Eien no Mo...    9.085566\n",
              "6     263                                     Hajime no Ippo    9.032332\n",
              "7     164                                      Mononoke Hime    9.021596\n",
              "8    1453                                      Maison Ikkoku    8.996126\n",
              "9     232                                  Cardcaptor Sakura    8.981206\n",
              "10    486                  Kino no Tabi: The Beautiful World    8.914218\n",
              "11   2418                              Stranger: Mukou Hadan    8.887235\n",
              "12    237                         Koukyoushihen Eureka Seven    8.887190\n",
              "13   1604                             Katekyo Hitman Reborn!    8.887064\n",
              "14    392                                    Yuu☆Yuu☆Hakusho    8.861298\n",
              "15    457                                           Mushishi    8.849776\n",
              "16    721                                      Princess Tutu    8.823084\n",
              "17    572                           Kaze no Tani no Nausicaä    8.819509\n",
              "18    558                                           Major S2    8.808351\n",
              "19    122                             Full Moon wo Sagashite    8.804714\n",
              "20   1210                                    NHK ni Youkoso!    8.802152\n",
              "21    302                                Mirai Shounen Conan    8.764524\n",
              "22    372       Cardcaptor Sakura Movie 2: Fuuin Sareta Card    8.749641\n",
              "23   4224                                          Toradora!    8.740937\n",
              "24   1889                      Higurashi no Naku Koro ni Kai    8.734585"
            ],
            "text/html": [
              "\n",
              "  <div id=\"df-5d36841a-7340-4abf-936c-73d157ca45b1\">\n",
              "    <div class=\"colab-df-container\">\n",
              "      <div>\n",
              "<style scoped>\n",
              "    .dataframe tbody tr th:only-of-type {\n",
              "        vertical-align: middle;\n",
              "    }\n",
              "\n",
              "    .dataframe tbody tr th {\n",
              "        vertical-align: top;\n",
              "    }\n",
              "\n",
              "    .dataframe thead th {\n",
              "        text-align: right;\n",
              "    }\n",
              "</style>\n",
              "<table border=\"1\" class=\"dataframe\">\n",
              "  <thead>\n",
              "    <tr style=\"text-align: right;\">\n",
              "      <th></th>\n",
              "      <th>MAL_ID</th>\n",
              "      <th>Name</th>\n",
              "      <th>Estimation</th>\n",
              "    </tr>\n",
              "  </thead>\n",
              "  <tbody>\n",
              "    <tr>\n",
              "      <th>0</th>\n",
              "      <td>820</td>\n",
              "      <td>Ginga Eiyuu Densetsu</td>\n",
              "      <td>9.594884</td>\n",
              "    </tr>\n",
              "    <tr>\n",
              "      <th>1</th>\n",
              "      <td>199</td>\n",
              "      <td>Sen to Chihiro no Kamikakushi</td>\n",
              "      <td>9.517046</td>\n",
              "    </tr>\n",
              "    <tr>\n",
              "      <th>2</th>\n",
              "      <td>918</td>\n",
              "      <td>Gintama</td>\n",
              "      <td>9.444418</td>\n",
              "    </tr>\n",
              "    <tr>\n",
              "      <th>3</th>\n",
              "      <td>6594</td>\n",
              "      <td>Katanagatari</td>\n",
              "      <td>9.254977</td>\n",
              "    </tr>\n",
              "    <tr>\n",
              "      <th>4</th>\n",
              "      <td>431</td>\n",
              "      <td>Howl no Ugoku Shiro</td>\n",
              "      <td>9.215057</td>\n",
              "    </tr>\n",
              "    <tr>\n",
              "      <th>5</th>\n",
              "      <td>11979</td>\n",
              "      <td>Mahou Shoujo Madoka★Magica Movie 2: Eien no Mo...</td>\n",
              "      <td>9.085566</td>\n",
              "    </tr>\n",
              "    <tr>\n",
              "      <th>6</th>\n",
              "      <td>263</td>\n",
              "      <td>Hajime no Ippo</td>\n",
              "      <td>9.032332</td>\n",
              "    </tr>\n",
              "    <tr>\n",
              "      <th>7</th>\n",
              "      <td>164</td>\n",
              "      <td>Mononoke Hime</td>\n",
              "      <td>9.021596</td>\n",
              "    </tr>\n",
              "    <tr>\n",
              "      <th>8</th>\n",
              "      <td>1453</td>\n",
              "      <td>Maison Ikkoku</td>\n",
              "      <td>8.996126</td>\n",
              "    </tr>\n",
              "    <tr>\n",
              "      <th>9</th>\n",
              "      <td>232</td>\n",
              "      <td>Cardcaptor Sakura</td>\n",
              "      <td>8.981206</td>\n",
              "    </tr>\n",
              "    <tr>\n",
              "      <th>10</th>\n",
              "      <td>486</td>\n",
              "      <td>Kino no Tabi: The Beautiful World</td>\n",
              "      <td>8.914218</td>\n",
              "    </tr>\n",
              "    <tr>\n",
              "      <th>11</th>\n",
              "      <td>2418</td>\n",
              "      <td>Stranger: Mukou Hadan</td>\n",
              "      <td>8.887235</td>\n",
              "    </tr>\n",
              "    <tr>\n",
              "      <th>12</th>\n",
              "      <td>237</td>\n",
              "      <td>Koukyoushihen Eureka Seven</td>\n",
              "      <td>8.887190</td>\n",
              "    </tr>\n",
              "    <tr>\n",
              "      <th>13</th>\n",
              "      <td>1604</td>\n",
              "      <td>Katekyo Hitman Reborn!</td>\n",
              "      <td>8.887064</td>\n",
              "    </tr>\n",
              "    <tr>\n",
              "      <th>14</th>\n",
              "      <td>392</td>\n",
              "      <td>Yuu☆Yuu☆Hakusho</td>\n",
              "      <td>8.861298</td>\n",
              "    </tr>\n",
              "    <tr>\n",
              "      <th>15</th>\n",
              "      <td>457</td>\n",
              "      <td>Mushishi</td>\n",
              "      <td>8.849776</td>\n",
              "    </tr>\n",
              "    <tr>\n",
              "      <th>16</th>\n",
              "      <td>721</td>\n",
              "      <td>Princess Tutu</td>\n",
              "      <td>8.823084</td>\n",
              "    </tr>\n",
              "    <tr>\n",
              "      <th>17</th>\n",
              "      <td>572</td>\n",
              "      <td>Kaze no Tani no Nausicaä</td>\n",
              "      <td>8.819509</td>\n",
              "    </tr>\n",
              "    <tr>\n",
              "      <th>18</th>\n",
              "      <td>558</td>\n",
              "      <td>Major S2</td>\n",
              "      <td>8.808351</td>\n",
              "    </tr>\n",
              "    <tr>\n",
              "      <th>19</th>\n",
              "      <td>122</td>\n",
              "      <td>Full Moon wo Sagashite</td>\n",
              "      <td>8.804714</td>\n",
              "    </tr>\n",
              "    <tr>\n",
              "      <th>20</th>\n",
              "      <td>1210</td>\n",
              "      <td>NHK ni Youkoso!</td>\n",
              "      <td>8.802152</td>\n",
              "    </tr>\n",
              "    <tr>\n",
              "      <th>21</th>\n",
              "      <td>302</td>\n",
              "      <td>Mirai Shounen Conan</td>\n",
              "      <td>8.764524</td>\n",
              "    </tr>\n",
              "    <tr>\n",
              "      <th>22</th>\n",
              "      <td>372</td>\n",
              "      <td>Cardcaptor Sakura Movie 2: Fuuin Sareta Card</td>\n",
              "      <td>8.749641</td>\n",
              "    </tr>\n",
              "    <tr>\n",
              "      <th>23</th>\n",
              "      <td>4224</td>\n",
              "      <td>Toradora!</td>\n",
              "      <td>8.740937</td>\n",
              "    </tr>\n",
              "    <tr>\n",
              "      <th>24</th>\n",
              "      <td>1889</td>\n",
              "      <td>Higurashi no Naku Koro ni Kai</td>\n",
              "      <td>8.734585</td>\n",
              "    </tr>\n",
              "  </tbody>\n",
              "</table>\n",
              "</div>\n",
              "      <button class=\"colab-df-convert\" onclick=\"convertToInteractive('df-5d36841a-7340-4abf-936c-73d157ca45b1')\"\n",
              "              title=\"Convert this dataframe to an interactive table.\"\n",
              "              style=\"display:none;\">\n",
              "        \n",
              "  <svg xmlns=\"http://www.w3.org/2000/svg\" height=\"24px\"viewBox=\"0 0 24 24\"\n",
              "       width=\"24px\">\n",
              "    <path d=\"M0 0h24v24H0V0z\" fill=\"none\"/>\n",
              "    <path d=\"M18.56 5.44l.94 2.06.94-2.06 2.06-.94-2.06-.94-.94-2.06-.94 2.06-2.06.94zm-11 1L8.5 8.5l.94-2.06 2.06-.94-2.06-.94L8.5 2.5l-.94 2.06-2.06.94zm10 10l.94 2.06.94-2.06 2.06-.94-2.06-.94-.94-2.06-.94 2.06-2.06.94z\"/><path d=\"M17.41 7.96l-1.37-1.37c-.4-.4-.92-.59-1.43-.59-.52 0-1.04.2-1.43.59L10.3 9.45l-7.72 7.72c-.78.78-.78 2.05 0 2.83L4 21.41c.39.39.9.59 1.41.59.51 0 1.02-.2 1.41-.59l7.78-7.78 2.81-2.81c.8-.78.8-2.07 0-2.86zM5.41 20L4 18.59l7.72-7.72 1.47 1.35L5.41 20z\"/>\n",
              "  </svg>\n",
              "      </button>\n",
              "      \n",
              "  <style>\n",
              "    .colab-df-container {\n",
              "      display:flex;\n",
              "      flex-wrap:wrap;\n",
              "      gap: 12px;\n",
              "    }\n",
              "\n",
              "    .colab-df-convert {\n",
              "      background-color: #E8F0FE;\n",
              "      border: none;\n",
              "      border-radius: 50%;\n",
              "      cursor: pointer;\n",
              "      display: none;\n",
              "      fill: #1967D2;\n",
              "      height: 32px;\n",
              "      padding: 0 0 0 0;\n",
              "      width: 32px;\n",
              "    }\n",
              "\n",
              "    .colab-df-convert:hover {\n",
              "      background-color: #E2EBFA;\n",
              "      box-shadow: 0px 1px 2px rgba(60, 64, 67, 0.3), 0px 1px 3px 1px rgba(60, 64, 67, 0.15);\n",
              "      fill: #174EA6;\n",
              "    }\n",
              "\n",
              "    [theme=dark] .colab-df-convert {\n",
              "      background-color: #3B4455;\n",
              "      fill: #D2E3FC;\n",
              "    }\n",
              "\n",
              "    [theme=dark] .colab-df-convert:hover {\n",
              "      background-color: #434B5C;\n",
              "      box-shadow: 0px 1px 3px 1px rgba(0, 0, 0, 0.15);\n",
              "      filter: drop-shadow(0px 1px 2px rgba(0, 0, 0, 0.3));\n",
              "      fill: #FFFFFF;\n",
              "    }\n",
              "  </style>\n",
              "\n",
              "      <script>\n",
              "        const buttonEl =\n",
              "          document.querySelector('#df-5d36841a-7340-4abf-936c-73d157ca45b1 button.colab-df-convert');\n",
              "        buttonEl.style.display =\n",
              "          google.colab.kernel.accessAllowed ? 'block' : 'none';\n",
              "\n",
              "        async function convertToInteractive(key) {\n",
              "          const element = document.querySelector('#df-5d36841a-7340-4abf-936c-73d157ca45b1');\n",
              "          const dataTable =\n",
              "            await google.colab.kernel.invokeFunction('convertToInteractive',\n",
              "                                                     [key], {});\n",
              "          if (!dataTable) return;\n",
              "\n",
              "          const docLinkHtml = 'Like what you see? Visit the ' +\n",
              "            '<a target=\"_blank\" href=https://colab.research.google.com/notebooks/data_table.ipynb>data table notebook</a>'\n",
              "            + ' to learn more about interactive tables.';\n",
              "          element.innerHTML = '';\n",
              "          dataTable['output_type'] = 'display_data';\n",
              "          await google.colab.output.renderOutput(dataTable, element);\n",
              "          const docLink = document.createElement('div');\n",
              "          docLink.innerHTML = docLinkHtml;\n",
              "          element.appendChild(docLink);\n",
              "        }\n",
              "      </script>\n",
              "    </div>\n",
              "  </div>\n",
              "  "
            ]
          },
          "metadata": {},
          "execution_count": 40
        }
      ],
      "source": [
        "recommendation_df"
      ]
    },
    {
      "cell_type": "code",
      "source": [
        "RECOMMENDATION_CSV_PATH = GENERATED_FOLDER + os.sep + 'recommendation.csv'\n",
        "recommendation_df.to_csv(RECOMMENDATION_CSV_PATH)"
      ],
      "metadata": {
        "id": "ldQD19d8kTQV"
      },
      "execution_count": null,
      "outputs": []
    },
    {
      "cell_type": "code",
      "source": [
        "recommendation_df"
      ],
      "metadata": {
        "colab": {
          "base_uri": "https://localhost:8080/",
          "height": 833
        },
        "id": "kYgLCKlN7agG",
        "outputId": "9c41df7a-61db-4653-8fb5-b173f3f80520"
      },
      "execution_count": null,
      "outputs": [
        {
          "output_type": "execute_result",
          "data": {
            "text/plain": [
              "   MAL_ID                                               Name  Estimation\n",
              "0     820                               Ginga Eiyuu Densetsu    9.594884\n",
              "1     199                      Sen to Chihiro no Kamikakushi    9.517046\n",
              "2     918                                            Gintama    9.444418\n",
              "3    6594                                       Katanagatari    9.254977\n",
              "4     431                                Howl no Ugoku Shiro    9.215057\n",
              "5   11979  Mahou Shoujo Madoka★Magica Movie 2: Eien no Mo...    9.085566\n",
              "6     263                                     Hajime no Ippo    9.032332\n",
              "7     164                                      Mononoke Hime    9.021596\n",
              "8    1453                                      Maison Ikkoku    8.996126\n",
              "9     232                                  Cardcaptor Sakura    8.981206\n",
              "10    486                  Kino no Tabi: The Beautiful World    8.914218\n",
              "11   2418                              Stranger: Mukou Hadan    8.887235\n",
              "12    237                         Koukyoushihen Eureka Seven    8.887190\n",
              "13   1604                             Katekyo Hitman Reborn!    8.887064\n",
              "14    392                                    Yuu☆Yuu☆Hakusho    8.861298\n",
              "15    457                                           Mushishi    8.849776\n",
              "16    721                                      Princess Tutu    8.823084\n",
              "17    572                           Kaze no Tani no Nausicaä    8.819509\n",
              "18    558                                           Major S2    8.808351\n",
              "19    122                             Full Moon wo Sagashite    8.804714\n",
              "20   1210                                    NHK ni Youkoso!    8.802152\n",
              "21    302                                Mirai Shounen Conan    8.764524\n",
              "22    372       Cardcaptor Sakura Movie 2: Fuuin Sareta Card    8.749641\n",
              "23   4224                                          Toradora!    8.740937\n",
              "24   1889                      Higurashi no Naku Koro ni Kai    8.734585"
            ],
            "text/html": [
              "\n",
              "  <div id=\"df-ad17340f-689c-4223-ab1a-37545ab1871e\">\n",
              "    <div class=\"colab-df-container\">\n",
              "      <div>\n",
              "<style scoped>\n",
              "    .dataframe tbody tr th:only-of-type {\n",
              "        vertical-align: middle;\n",
              "    }\n",
              "\n",
              "    .dataframe tbody tr th {\n",
              "        vertical-align: top;\n",
              "    }\n",
              "\n",
              "    .dataframe thead th {\n",
              "        text-align: right;\n",
              "    }\n",
              "</style>\n",
              "<table border=\"1\" class=\"dataframe\">\n",
              "  <thead>\n",
              "    <tr style=\"text-align: right;\">\n",
              "      <th></th>\n",
              "      <th>MAL_ID</th>\n",
              "      <th>Name</th>\n",
              "      <th>Estimation</th>\n",
              "    </tr>\n",
              "  </thead>\n",
              "  <tbody>\n",
              "    <tr>\n",
              "      <th>0</th>\n",
              "      <td>820</td>\n",
              "      <td>Ginga Eiyuu Densetsu</td>\n",
              "      <td>9.594884</td>\n",
              "    </tr>\n",
              "    <tr>\n",
              "      <th>1</th>\n",
              "      <td>199</td>\n",
              "      <td>Sen to Chihiro no Kamikakushi</td>\n",
              "      <td>9.517046</td>\n",
              "    </tr>\n",
              "    <tr>\n",
              "      <th>2</th>\n",
              "      <td>918</td>\n",
              "      <td>Gintama</td>\n",
              "      <td>9.444418</td>\n",
              "    </tr>\n",
              "    <tr>\n",
              "      <th>3</th>\n",
              "      <td>6594</td>\n",
              "      <td>Katanagatari</td>\n",
              "      <td>9.254977</td>\n",
              "    </tr>\n",
              "    <tr>\n",
              "      <th>4</th>\n",
              "      <td>431</td>\n",
              "      <td>Howl no Ugoku Shiro</td>\n",
              "      <td>9.215057</td>\n",
              "    </tr>\n",
              "    <tr>\n",
              "      <th>5</th>\n",
              "      <td>11979</td>\n",
              "      <td>Mahou Shoujo Madoka★Magica Movie 2: Eien no Mo...</td>\n",
              "      <td>9.085566</td>\n",
              "    </tr>\n",
              "    <tr>\n",
              "      <th>6</th>\n",
              "      <td>263</td>\n",
              "      <td>Hajime no Ippo</td>\n",
              "      <td>9.032332</td>\n",
              "    </tr>\n",
              "    <tr>\n",
              "      <th>7</th>\n",
              "      <td>164</td>\n",
              "      <td>Mononoke Hime</td>\n",
              "      <td>9.021596</td>\n",
              "    </tr>\n",
              "    <tr>\n",
              "      <th>8</th>\n",
              "      <td>1453</td>\n",
              "      <td>Maison Ikkoku</td>\n",
              "      <td>8.996126</td>\n",
              "    </tr>\n",
              "    <tr>\n",
              "      <th>9</th>\n",
              "      <td>232</td>\n",
              "      <td>Cardcaptor Sakura</td>\n",
              "      <td>8.981206</td>\n",
              "    </tr>\n",
              "    <tr>\n",
              "      <th>10</th>\n",
              "      <td>486</td>\n",
              "      <td>Kino no Tabi: The Beautiful World</td>\n",
              "      <td>8.914218</td>\n",
              "    </tr>\n",
              "    <tr>\n",
              "      <th>11</th>\n",
              "      <td>2418</td>\n",
              "      <td>Stranger: Mukou Hadan</td>\n",
              "      <td>8.887235</td>\n",
              "    </tr>\n",
              "    <tr>\n",
              "      <th>12</th>\n",
              "      <td>237</td>\n",
              "      <td>Koukyoushihen Eureka Seven</td>\n",
              "      <td>8.887190</td>\n",
              "    </tr>\n",
              "    <tr>\n",
              "      <th>13</th>\n",
              "      <td>1604</td>\n",
              "      <td>Katekyo Hitman Reborn!</td>\n",
              "      <td>8.887064</td>\n",
              "    </tr>\n",
              "    <tr>\n",
              "      <th>14</th>\n",
              "      <td>392</td>\n",
              "      <td>Yuu☆Yuu☆Hakusho</td>\n",
              "      <td>8.861298</td>\n",
              "    </tr>\n",
              "    <tr>\n",
              "      <th>15</th>\n",
              "      <td>457</td>\n",
              "      <td>Mushishi</td>\n",
              "      <td>8.849776</td>\n",
              "    </tr>\n",
              "    <tr>\n",
              "      <th>16</th>\n",
              "      <td>721</td>\n",
              "      <td>Princess Tutu</td>\n",
              "      <td>8.823084</td>\n",
              "    </tr>\n",
              "    <tr>\n",
              "      <th>17</th>\n",
              "      <td>572</td>\n",
              "      <td>Kaze no Tani no Nausicaä</td>\n",
              "      <td>8.819509</td>\n",
              "    </tr>\n",
              "    <tr>\n",
              "      <th>18</th>\n",
              "      <td>558</td>\n",
              "      <td>Major S2</td>\n",
              "      <td>8.808351</td>\n",
              "    </tr>\n",
              "    <tr>\n",
              "      <th>19</th>\n",
              "      <td>122</td>\n",
              "      <td>Full Moon wo Sagashite</td>\n",
              "      <td>8.804714</td>\n",
              "    </tr>\n",
              "    <tr>\n",
              "      <th>20</th>\n",
              "      <td>1210</td>\n",
              "      <td>NHK ni Youkoso!</td>\n",
              "      <td>8.802152</td>\n",
              "    </tr>\n",
              "    <tr>\n",
              "      <th>21</th>\n",
              "      <td>302</td>\n",
              "      <td>Mirai Shounen Conan</td>\n",
              "      <td>8.764524</td>\n",
              "    </tr>\n",
              "    <tr>\n",
              "      <th>22</th>\n",
              "      <td>372</td>\n",
              "      <td>Cardcaptor Sakura Movie 2: Fuuin Sareta Card</td>\n",
              "      <td>8.749641</td>\n",
              "    </tr>\n",
              "    <tr>\n",
              "      <th>23</th>\n",
              "      <td>4224</td>\n",
              "      <td>Toradora!</td>\n",
              "      <td>8.740937</td>\n",
              "    </tr>\n",
              "    <tr>\n",
              "      <th>24</th>\n",
              "      <td>1889</td>\n",
              "      <td>Higurashi no Naku Koro ni Kai</td>\n",
              "      <td>8.734585</td>\n",
              "    </tr>\n",
              "  </tbody>\n",
              "</table>\n",
              "</div>\n",
              "      <button class=\"colab-df-convert\" onclick=\"convertToInteractive('df-ad17340f-689c-4223-ab1a-37545ab1871e')\"\n",
              "              title=\"Convert this dataframe to an interactive table.\"\n",
              "              style=\"display:none;\">\n",
              "        \n",
              "  <svg xmlns=\"http://www.w3.org/2000/svg\" height=\"24px\"viewBox=\"0 0 24 24\"\n",
              "       width=\"24px\">\n",
              "    <path d=\"M0 0h24v24H0V0z\" fill=\"none\"/>\n",
              "    <path d=\"M18.56 5.44l.94 2.06.94-2.06 2.06-.94-2.06-.94-.94-2.06-.94 2.06-2.06.94zm-11 1L8.5 8.5l.94-2.06 2.06-.94-2.06-.94L8.5 2.5l-.94 2.06-2.06.94zm10 10l.94 2.06.94-2.06 2.06-.94-2.06-.94-.94-2.06-.94 2.06-2.06.94z\"/><path d=\"M17.41 7.96l-1.37-1.37c-.4-.4-.92-.59-1.43-.59-.52 0-1.04.2-1.43.59L10.3 9.45l-7.72 7.72c-.78.78-.78 2.05 0 2.83L4 21.41c.39.39.9.59 1.41.59.51 0 1.02-.2 1.41-.59l7.78-7.78 2.81-2.81c.8-.78.8-2.07 0-2.86zM5.41 20L4 18.59l7.72-7.72 1.47 1.35L5.41 20z\"/>\n",
              "  </svg>\n",
              "      </button>\n",
              "      \n",
              "  <style>\n",
              "    .colab-df-container {\n",
              "      display:flex;\n",
              "      flex-wrap:wrap;\n",
              "      gap: 12px;\n",
              "    }\n",
              "\n",
              "    .colab-df-convert {\n",
              "      background-color: #E8F0FE;\n",
              "      border: none;\n",
              "      border-radius: 50%;\n",
              "      cursor: pointer;\n",
              "      display: none;\n",
              "      fill: #1967D2;\n",
              "      height: 32px;\n",
              "      padding: 0 0 0 0;\n",
              "      width: 32px;\n",
              "    }\n",
              "\n",
              "    .colab-df-convert:hover {\n",
              "      background-color: #E2EBFA;\n",
              "      box-shadow: 0px 1px 2px rgba(60, 64, 67, 0.3), 0px 1px 3px 1px rgba(60, 64, 67, 0.15);\n",
              "      fill: #174EA6;\n",
              "    }\n",
              "\n",
              "    [theme=dark] .colab-df-convert {\n",
              "      background-color: #3B4455;\n",
              "      fill: #D2E3FC;\n",
              "    }\n",
              "\n",
              "    [theme=dark] .colab-df-convert:hover {\n",
              "      background-color: #434B5C;\n",
              "      box-shadow: 0px 1px 3px 1px rgba(0, 0, 0, 0.15);\n",
              "      filter: drop-shadow(0px 1px 2px rgba(0, 0, 0, 0.3));\n",
              "      fill: #FFFFFF;\n",
              "    }\n",
              "  </style>\n",
              "\n",
              "      <script>\n",
              "        const buttonEl =\n",
              "          document.querySelector('#df-ad17340f-689c-4223-ab1a-37545ab1871e button.colab-df-convert');\n",
              "        buttonEl.style.display =\n",
              "          google.colab.kernel.accessAllowed ? 'block' : 'none';\n",
              "\n",
              "        async function convertToInteractive(key) {\n",
              "          const element = document.querySelector('#df-ad17340f-689c-4223-ab1a-37545ab1871e');\n",
              "          const dataTable =\n",
              "            await google.colab.kernel.invokeFunction('convertToInteractive',\n",
              "                                                     [key], {});\n",
              "          if (!dataTable) return;\n",
              "\n",
              "          const docLinkHtml = 'Like what you see? Visit the ' +\n",
              "            '<a target=\"_blank\" href=https://colab.research.google.com/notebooks/data_table.ipynb>data table notebook</a>'\n",
              "            + ' to learn more about interactive tables.';\n",
              "          element.innerHTML = '';\n",
              "          dataTable['output_type'] = 'display_data';\n",
              "          await google.colab.output.renderOutput(dataTable, element);\n",
              "          const docLink = document.createElement('div');\n",
              "          docLink.innerHTML = docLinkHtml;\n",
              "          element.appendChild(docLink);\n",
              "        }\n",
              "      </script>\n",
              "    </div>\n",
              "  </div>\n",
              "  "
            ]
          },
          "metadata": {},
          "execution_count": 42
        }
      ]
    }
  ],
  "metadata": {
    "colab": {
      "provenance": [],
      "mount_file_id": "1n5WE5XbUxQUASZ_mn8NAKl-t1NMezBmR",
      "authorship_tag": "ABX9TyPzDWCpzLre8VZsfo6UoRLU",
      "include_colab_link": true
    },
    "gpuClass": "standard",
    "kernelspec": {
      "display_name": "Python 3",
      "name": "python3"
    },
    "language_info": {
      "name": "python"
    }
  },
  "nbformat": 4,
  "nbformat_minor": 0
}